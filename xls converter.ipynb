{
 "cells": [
  {
   "cell_type": "code",
   "execution_count": 1,
   "metadata": {},
   "outputs": [],
   "source": [
    "import pyexcel as p\n",
    "import os\n"
   ]
  },
  {
   "cell_type": "code",
   "execution_count": 46,
   "metadata": {},
   "outputs": [],
   "source": [
    "def xls_converter(xls_file):\n",
    "    '''\n",
    "    Converts .xls files to .xlsx files, it doesn't save\n",
    "    the colors and text formatting, if no .xls file is\n",
    "    inputted, it returns the same input file without changes.\n",
    "\n",
    "    Input: .xls Excel File\n",
    "    Output: .xlsx Excel File\n",
    "\n",
    "    '''\n",
    "    filename = os.path.splitext(xls_file)\n",
    "    if '.xls' == os.path.splitext(xls_file)[1]:\n",
    "        try:\n",
    "            output_xlsx = p.save_book_as(file_name=xls_file, dest_file_name=f'{filename[0]}.xlsx')\n",
    "        except(TypeError):\n",
    "            print('.xls file could not be converted to .xlsx')\n",
    "        return output_xlsx\n",
    "    else:\n",
    "        return xls_file\n",
    "    "
   ]
  },
  {
   "cell_type": "code",
   "execution_count": 47,
   "metadata": {},
   "outputs": [],
   "source": [
    "xls_converter(xls_file='elarchivo.xlsx')"
   ]
  },
  {
   "cell_type": "code",
   "execution_count": 45,
   "metadata": {},
   "outputs": [
    {
     "data": {
      "text/plain": [
       "str"
      ]
     },
     "execution_count": 45,
     "metadata": {},
     "output_type": "execute_result"
    }
   ],
   "source": [
    "xls_converter('20230203-P-980-0210-PAMPA.xls')"
   ]
  }
 ],
 "metadata": {
  "kernelspec": {
   "display_name": "base",
   "language": "python",
   "name": "python3"
  },
  "language_info": {
   "codemirror_mode": {
    "name": "ipython",
    "version": 3
   },
   "file_extension": ".py",
   "mimetype": "text/x-python",
   "name": "python",
   "nbconvert_exporter": "python",
   "pygments_lexer": "ipython3",
   "version": "3.9.15"
  },
  "orig_nbformat": 4,
  "vscode": {
   "interpreter": {
    "hash": "f67d307c80fda0d5aa771939522e8cbfc28c38fa550b1a264c930d86f8ba9aef"
   }
  }
 },
 "nbformat": 4,
 "nbformat_minor": 2
}
